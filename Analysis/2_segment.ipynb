{
 "cells": [
  {
   "cell_type": "markdown",
   "metadata": {},
   "source": [
    "# Segment\n",
    "This notebook contains example code for how you can use the PadAnalsysis package to segment colonies and single cells to produce segmentation masks. If you have a time-series of images, and want to extract statistics, use the next notebook as a guide. "
   ]
  },
  {
   "cell_type": "code",
   "execution_count": 4,
   "metadata": {},
   "outputs": [],
   "source": [
    "# Install dependencies with:\n",
    "# pip install -r requirements.txt\n",
    "\n",
    "# set up notebook\n",
    "%load_ext autoreload\n",
    "%autoreload 2\n",
    "\n",
    "import os\n",
    "import natsort\n",
    "import numpy as np\n",
    "from PIL import Image\n",
    "import matplotlib.pyplot as plt\n",
    "import cv2 as cv\n",
    "from PadAnalyser.MicrocolonySegmenter import ZStack, MKSegmentUtils, DInfo, ColonySegment, CellSegment, Segment\n",
    "\n",
    "IMAGE_FOLDER = 'sample_images'\n",
    "OUTPUT_FOLDER = 'output'\n",
    "SPECIES = 'ecoli', 'staph', 'pseu'"
   ]
  },
  {
   "cell_type": "code",
   "execution_count": 5,
   "metadata": {},
   "outputs": [
    {
     "name": "stdout",
     "output_type": "stream",
     "text": [
      "Loaded 12 frames:\n",
      "\t 0. ecoli_BE145_11_A12_bf_i10_t07954_9511-9519-l9\n",
      "\t 1. ecoli_BE148_02_A3_bf_i06_t05532_8632-8646-l15\n",
      "\t 2. ecoli_BE148_06_A7_bf_i03_t02804_4395-4408-l14\n",
      "\t 3. ecoli_BE151_69_G2_bf_i04_t03575_4331-4339-l9\n",
      "\t 4. ecoli_BE151_69_G2_bf_i08_t06666_7971-7979-l9\n",
      "\t 5. staph_BE205_00_A1_bf_i01_t00625_1067-1078-l12\n",
      "\t 6. staph_BE205_04_A5_bf_i06_t03775_6449-6460-l12\n",
      "\t 7. staph_BE205_06_A7_bf_i03_t01917_3277-3288-l12\n",
      "\t 8. pseu_BE204_22_B1_bf_i05_t03685_6332-6343-l12\n",
      "\t 9. pseu_BE216_11_A12_bf_i10_t07288_12624-12635-l12\n",
      "\t10. pseu_BE216_11_A12_bf_i13_t09477_16368-16379-l12\n",
      "\t11. pseu_BE216_42_D6_bf_i02_t01757_3043-3054-l12\n"
     ]
    }
   ],
   "source": [
    "# set up folder paths\n",
    "input_folder = IMAGE_FOLDER \n",
    "work_folder = os.path.join(OUTPUT_FOLDER, 'work')\n",
    "results_folder = os.path.join(OUTPUT_FOLDER, 'results')\n",
    "\n",
    "# create folders and clear work folder\n",
    "if not os.path.exists(results_folder): os.makedirs(results_folder)\n",
    "if not os.path.exists(work_folder): os.makedirs(work_folder)\n",
    "else: # clear it\n",
    "    for f in os.listdir(work_folder):\n",
    "        os.remove(os.path.join(work_folder, f))\n",
    "\n",
    "def get_all_frames_in_folder(path: str) -> list[tuple[str, str]]:\n",
    "    filenames = [n for n in natsort.natsorted(os.listdir(path)) if n.endswith('.png')]\n",
    "    return [(n, os.path.join(path, n)) for n in filenames]\n",
    "\n",
    "frames = []\n",
    "labels = []\n",
    "filenames = []\n",
    "for s in SPECIES:\n",
    "    for filename, filepath in get_all_frames_in_folder(os.path.join(input_folder, s)):        \n",
    "        frame = np.asarray(Image.open(filepath))\n",
    "        label = f'{s}_{filename.split(\".\")[0]}'\n",
    "\n",
    "        frames.append(frame)\n",
    "        labels.append(label)\n",
    "        filenames.append(filename)\n",
    "\n",
    "\n",
    "dinfo = DInfo.DInfo(\n",
    "    label='seg',\n",
    "    image_dir=work_folder,\n",
    "    printing=False,\n",
    "    live_plot=False,\n",
    "    file_plot=True,\n",
    ")\n",
    "dinfo_results = DInfo.DInfo(\n",
    "    label='seg',\n",
    "    image_dir=results_folder,\n",
    "    printing=True,\n",
    "    live_plot=False,\n",
    "    file_plot=True,\n",
    ")\n",
    "\n",
    "print(f'Loaded {len(frames)} frames:')\n",
    "for i, l in enumerate(labels): \n",
    "    print(f'\\t{i:2d}. {l}')"
   ]
  },
  {
   "cell_type": "code",
   "execution_count": 6,
   "metadata": {},
   "outputs": [
    {
     "name": "stdout",
     "output_type": "stream",
     "text": [
      "Processing ecoli_BE145_11_A12_bf_i10_t07954_9511-9519-l9\n",
      "Processing ecoli_BE148_02_A3_bf_i06_t05532_8632-8646-l15\n",
      "Processing ecoli_BE148_06_A7_bf_i03_t02804_4395-4408-l14\n",
      "Processing ecoli_BE151_69_G2_bf_i04_t03575_4331-4339-l9\n",
      "Processing ecoli_BE151_69_G2_bf_i08_t06666_7971-7979-l9\n",
      "Processing staph_BE205_00_A1_bf_i01_t00625_1067-1078-l12\n",
      "Processing staph_BE205_04_A5_bf_i06_t03775_6449-6460-l12\n",
      "Processing staph_BE205_06_A7_bf_i03_t01917_3277-3288-l12\n",
      "Processing pseu_BE204_22_B1_bf_i05_t03685_6332-6343-l12\n",
      "Processing pseu_BE216_11_A12_bf_i10_t07288_12624-12635-l12\n",
      "Processing pseu_BE216_11_A12_bf_i13_t09477_16368-16379-l12\n",
      "Processing pseu_BE216_42_D6_bf_i02_t01757_3043-3054-l12\n"
     ]
    }
   ],
   "source": [
    "# Run single frames and study performance\n",
    "for f, l in list(zip(frames, labels))[:]:\n",
    "    print(f'Processing {l}')    \n",
    "    \n",
    "    # load species specific parameters\n",
    "    species = l.split('_')[0]\n",
    "    species_full_name = Segment.species_map[species]\n",
    "    params = Segment.analysis_parameters[species_full_name]\n",
    "\n",
    "    sigma = params['sigma']\n",
    "    threshold = params['threshold']\n",
    "    split_factor = params['split_factor']\n",
    "    min_mask_size_filter = params['min_mask_size_filter']\n",
    "    \n",
    "    # customize output debug info object\n",
    "    d = dinfo.append_to_label(l).with_live_plot(False).with_file_plot(False)\n",
    "    d_results = dinfo_results.append_to_label(l).with_live_plot(False).with_file_plot(True)\n",
    "\n",
    "    # Preprocess frame    \n",
    "    frame = ZStack.clip(f)\n",
    "    frame = cv.GaussianBlur(frame, (3, 3), 0)\n",
    "    frame = MKSegmentUtils.norm(frame)\n",
    "    \n",
    "    # perform colony segmentation\n",
    "    c_contours = ColonySegment.bf_via_edges(frame, dinfo=d.append_to_label('a_contour'))#, lower_threshold=30, upper_threshold=120, close_iterations=3)    \n",
    "\n",
    "    # perform cell segmentation\n",
    "    s_contours = CellSegment.bf_laplacian(\n",
    "        frame, \n",
    "        colony_contours=c_contours, \n",
    "        dinfo=d.append_to_label(f'cell_sigma{sigma}_threshold{threshold}'), \n",
    "        sigma=sigma, \n",
    "        ksize=7,\n",
    "        threshold=threshold,\n",
    "        split_factor=split_factor,\n",
    "        min_mask_size_filter=min_mask_size_filter,\n",
    "    )\n",
    "\n",
    "    # Plot results\n",
    "    MKSegmentUtils.plot_frame(frame, dinfo=d_results.append_to_label('res_0_colony'), contours=c_contours, contour_thickness=2)\n",
    "    MKSegmentUtils.plot_frame(frame, dinfo=d_results.append_to_label('res_1_cells'), contours=s_contours, contour_thickness=cv.FILLED)\n",
    "    MKSegmentUtils.plot_frame_color_area(frame, dinfo=d_results.append_to_label('res_2_cell_area'), contours=s_contours)"
   ]
  }
 ],
 "metadata": {
  "kernelspec": {
   "display_name": "py39",
   "language": "python",
   "name": "python3"
  },
  "language_info": {
   "codemirror_mode": {
    "name": "ipython",
    "version": 3
   },
   "file_extension": ".py",
   "mimetype": "text/x-python",
   "name": "python",
   "nbconvert_exporter": "python",
   "pygments_lexer": "ipython3",
   "version": "3.9.17"
  },
  "orig_nbformat": 4
 },
 "nbformat": 4,
 "nbformat_minor": 2
}
