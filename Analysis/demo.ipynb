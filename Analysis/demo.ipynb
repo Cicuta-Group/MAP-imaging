{
 "cells": [
  {
   "cell_type": "code",
   "execution_count": 1,
   "metadata": {},
   "outputs": [
    {
     "name": "stdout",
     "output_type": "stream",
     "text": [
      "TiffFrameSet with 15 frames\n"
     ]
    }
   ],
   "source": [
    "%load_ext autoreload\n",
    "%autoreload 2\n",
    "\n",
    "import os\n",
    "import natsort\n",
    "import PadAnalyser\n",
    "from PadAnalyser import FrameSets\n",
    "import matplotlib.pyplot as plt\n",
    "\n",
    "IMAGE_PATH = 'sample_images'\n",
    "image_filenames = natsort.natsorted(os.listdir(IMAGE_PATH)) # sort filenames in natural order\n",
    "image_paths = [os.path.join(IMAGE_PATH, f) for f in image_filenames] # get full paths\n",
    "times_in_seconds = [int(f.split('_')[-5]) for f in image_filenames] # extract time from filename\n",
    "\n",
    "frame_set = FrameSets.TiffFrameSet(\n",
    "    label='test',\n",
    "    image_type='brightfield',\n",
    "    metadata={'experiment': 'BE142', 'pad': 'A12'},\n",
    "    file_paths=image_paths, \n",
    "    times_in_seconds=times_in_seconds, \n",
    ")\n",
    "\n",
    "print(frame_set)"
   ]
  },
  {
   "cell_type": "code",
   "execution_count": 2,
   "metadata": {},
   "outputs": [],
   "source": [
    "# for frame, time_in_seconds in frame_set[:2]:\n",
    "#     plt.figure()\n",
    "#     plt.imshow(frame, cmap='gray')\n",
    "#     plt.title(f'Time = {time_in_seconds} sec')"
   ]
  },
  {
   "cell_type": "code",
   "execution_count": 3,
   "metadata": {},
   "outputs": [
    {
     "ename": "ModuleNotFoundError",
     "evalue": "No module named 'MKImageAnalysis'",
     "output_type": "error",
     "traceback": [
      "\u001b[0;31m---------------------------------------------------------------------------\u001b[0m",
      "\u001b[0;31mModuleNotFoundError\u001b[0m                       Traceback (most recent call last)",
      "Cell \u001b[0;32mIn[3], line 1\u001b[0m\n\u001b[0;32m----> 1\u001b[0m \u001b[39mfrom\u001b[39;00m \u001b[39mPadAnalyser\u001b[39;00m \u001b[39mimport\u001b[39;00m MicrocolonySegmenter\n\u001b[1;32m      2\u001b[0m \u001b[39mfrom\u001b[39;00m \u001b[39mPadAnalyser\u001b[39;00m\u001b[39m.\u001b[39;00m\u001b[39mOutputConfig\u001b[39;00m \u001b[39mimport\u001b[39;00m OutputConfig\n\u001b[1;32m      4\u001b[0m output_config \u001b[39m=\u001b[39m OutputConfig(\n\u001b[1;32m      5\u001b[0m     output_dir \u001b[39m=\u001b[39m \u001b[39m'\u001b[39m\u001b[39mtmp/output\u001b[39m\u001b[39m'\u001b[39m,\n\u001b[1;32m      6\u001b[0m     work_dir \u001b[39m=\u001b[39m \u001b[39m'\u001b[39m\u001b[39mtmp/work\u001b[39m\u001b[39m'\u001b[39m,\n\u001b[0;32m   (...)\u001b[0m\n\u001b[1;32m     15\u001b[0m     process_count \u001b[39m=\u001b[39m \u001b[39m1\u001b[39m,\n\u001b[1;32m     16\u001b[0m )\n",
      "File \u001b[0;32m~/Developer/Cambridge/PadAnalyser/src/PadAnalyser/MicrocolonySegmenter/__init__.py:20\u001b[0m\n\u001b[1;32m     18\u001b[0m \u001b[39mfrom\u001b[39;00m \u001b[39mfunctools\u001b[39;00m \u001b[39mimport\u001b[39;00m partial\n\u001b[1;32m     19\u001b[0m \u001b[39mfrom\u001b[39;00m \u001b[39mmultiprocessing\u001b[39;00m \u001b[39mimport\u001b[39;00m Pool\n\u001b[0;32m---> 20\u001b[0m \u001b[39mfrom\u001b[39;00m \u001b[39m.\u001b[39;00m \u001b[39mimport\u001b[39;00m MKTimeseriesAnalyzer, DataProcessor\n\u001b[1;32m     21\u001b[0m \u001b[39mfrom\u001b[39;00m \u001b[39mMKSegmentUtils\u001b[39;00m \u001b[39mimport\u001b[39;00m DInfo\n\u001b[1;32m     22\u001b[0m \u001b[39mimport\u001b[39;00m \u001b[39mMKAnalysisUtils\u001b[39;00m\n",
      "File \u001b[0;32m~/Developer/Cambridge/PadAnalyser/src/PadAnalyser/MicrocolonySegmenter/MKTimeseriesAnalyzer.py:12\u001b[0m\n\u001b[1;32m      9\u001b[0m \u001b[39mimport\u001b[39;00m \u001b[39mlogging\u001b[39;00m\n\u001b[1;32m     11\u001b[0m \u001b[39mfrom\u001b[39;00m \u001b[39mPadAnalyser\u001b[39;00m\u001b[39m.\u001b[39;00m\u001b[39mFrameSets\u001b[39;00m \u001b[39mimport\u001b[39;00m FrameSet\n\u001b[0;32m---> 12\u001b[0m \u001b[39mfrom\u001b[39;00m \u001b[39m.\u001b[39;00m \u001b[39mimport\u001b[39;00m MKSegment, MKSegmentUtils, MKLineageTracker\n\u001b[1;32m     15\u001b[0m \u001b[39m### Frame alignment\u001b[39;00m\n\u001b[1;32m     17\u001b[0m \u001b[39mdef\u001b[39;00m \u001b[39mpoint_show\u001b[39m(points, f0, dot_size\u001b[39m=\u001b[39m\u001b[39m4\u001b[39m):\n",
      "File \u001b[0;32m~/Developer/Cambridge/PadAnalyser/src/PadAnalyser/MicrocolonySegmenter/MKSegment.py:1\u001b[0m\n\u001b[0;32m----> 1\u001b[0m \u001b[39mfrom\u001b[39;00m \u001b[39mMKImageAnalysis\u001b[39;00m\u001b[39m.\u001b[39;00m\u001b[39mMKSegmentUtils\u001b[39;00m \u001b[39mimport\u001b[39;00m \u001b[39m*\u001b[39m\n\u001b[1;32m      2\u001b[0m \u001b[39mimport\u001b[39;00m \u001b[39mlogging\u001b[39;00m\n\u001b[1;32m      4\u001b[0m \u001b[39m# '''\u001b[39;00m\n\u001b[1;32m      5\u001b[0m \u001b[39m# Preporcesses frame and returns (frame, laplacian)\u001b[39;00m\n\u001b[1;32m      6\u001b[0m \u001b[39m# '''\u001b[39;00m\n\u001b[0;32m   (...)\u001b[0m\n\u001b[1;32m     35\u001b[0m \n\u001b[1;32m     36\u001b[0m \u001b[39m#     return l\u001b[39;00m\n",
      "\u001b[0;31mModuleNotFoundError\u001b[0m: No module named 'MKImageAnalysis'"
     ]
    }
   ],
   "source": [
    "from PadAnalyser import MicrocolonySegmenter\n",
    "from PadAnalyser.OutputConfig import OutputConfig\n",
    "\n",
    "output_config = OutputConfig(\n",
    "    output_dir = 'tmp/output',\n",
    "    work_dir = 'tmp/work',\n",
    "    debug_dir = 'tmp/debug',\n",
    "    mask_dir = 'tmp/masks',\n",
    "    \n",
    "    logging_file = 'tmp/runlog.log',\n",
    "\n",
    "    cache_segmentation = False,\n",
    "    cache_dataframe = False,\n",
    "\n",
    "    process_count = 1,\n",
    ")\n",
    "\n",
    "print(output_config)\n",
    "\n",
    "MicrocolonySegmenter.segment_frame_set(frame_set=frame_set, output_config=output_config)"
   ]
  }
 ],
 "metadata": {
  "kernelspec": {
   "display_name": "py39",
   "language": "python",
   "name": "python3"
  },
  "language_info": {
   "codemirror_mode": {
    "name": "ipython",
    "version": 3
   },
   "file_extension": ".py",
   "mimetype": "text/x-python",
   "name": "python",
   "nbconvert_exporter": "python",
   "pygments_lexer": "ipython3",
   "version": "3.9.17"
  },
  "orig_nbformat": 4
 },
 "nbformat": 4,
 "nbformat_minor": 2
}
