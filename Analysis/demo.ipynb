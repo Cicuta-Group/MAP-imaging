{
 "cells": [
  {
   "cell_type": "code",
   "execution_count": null,
   "metadata": {},
   "outputs": [],
   "source": [
    "%load_ext autoreload\n",
    "%autoreload 2\n",
    "\n",
    "import os\n",
    "import natsort\n",
    "import PadAnalyser\n",
    "from PadAnalyser import FrameSets\n",
    "import matplotlib.pyplot as plt\n",
    "\n",
    "IMAGE_PATH = 'sample_images'\n",
    "image_filenames = natsort.natsorted(os.listdir(IMAGE_PATH)) # sort filenames in natural order\n",
    "\n",
    "image_filenames = image_filenames[:3]\n",
    "\n",
    "image_paths = [os.path.join(IMAGE_PATH, f) for f in image_filenames] # get full paths\n",
    "times_in_seconds = [int(f.split('_')[-5]) for f in image_filenames] # extract time from filename\n",
    "\n",
    "frame_set = FrameSets.TiffFrameSet(\n",
    "    label='test',\n",
    "    image_type='brightfield',\n",
    "    metadata={'experiment': 'BE142', 'pad': 'A12'},\n",
    "    file_paths=image_paths, \n",
    "    times_in_seconds=times_in_seconds, \n",
    "    frame_labels=None,\n",
    ")\n",
    "\n",
    "print(frame_set)"
   ]
  },
  {
   "cell_type": "code",
   "execution_count": null,
   "metadata": {},
   "outputs": [],
   "source": [
    "# for frame, time_in_seconds in frame_set[:2]:\n",
    "#     plt.figure()\n",
    "#     plt.imshow(frame, cmap='gray')\n",
    "#     plt.title(f'Time = {time_in_seconds} sec')"
   ]
  },
  {
   "cell_type": "code",
   "execution_count": null,
   "metadata": {},
   "outputs": [],
   "source": [
    "from PadAnalyser import MicrocolonySegmenter\n",
    "from PadAnalyser.OutputConfig import OutputConfig\n",
    "\n",
    "output_config = OutputConfig(\n",
    "    output_dir = 'tmp/output',\n",
    "    work_dir = 'tmp/work',\n",
    "    debug_dir = 'tmp/debug',\n",
    "    mask_dir = 'tmp/masks',\n",
    "    \n",
    "    logging_file = 'tmp/runlog.log',\n",
    "\n",
    "    cache_segmentation = False,\n",
    "    cache_dataframe = False,\n",
    "\n",
    "    clear_dirs = True,\n",
    "    process_count = 1,\n",
    ")\n",
    "\n",
    "print(output_config)\n",
    "\n",
    "MicrocolonySegmenter.segment_frame_set(frame_set=frame_set, output_config=output_config)"
   ]
  }
 ],
 "metadata": {
  "kernelspec": {
   "display_name": "py39",
   "language": "python",
   "name": "python3"
  },
  "language_info": {
   "codemirror_mode": {
    "name": "ipython",
    "version": 3
   },
   "file_extension": ".py",
   "mimetype": "text/x-python",
   "name": "python",
   "nbconvert_exporter": "python",
   "pygments_lexer": "ipython3",
   "version": "3.9.17"
  },
  "orig_nbformat": 4
 },
 "nbformat": 4,
 "nbformat_minor": 2
}
