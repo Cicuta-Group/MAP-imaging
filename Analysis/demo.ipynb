{
 "cells": [
  {
   "cell_type": "code",
   "execution_count": 6,
   "metadata": {},
   "outputs": [
    {
     "data": {
      "text/plain": [
       "(['test_images/seg_BE150_11_A12_br_110_fs_z_stack_best.tif',\n",
       "  'test_images/seg_BE150_11_A12_br_1050_fs_z_stack_best.tif',\n",
       "  'test_images/seg_BE150_11_A12_br_1990_fs_z_stack_best.tif',\n",
       "  'test_images/seg_BE150_11_A12_br_2930_fs_z_stack_best.tif',\n",
       "  'test_images/seg_BE150_11_A12_br_3870_fs_z_stack_best.tif',\n",
       "  'test_images/seg_BE150_11_A12_br_4810_fs_z_stack_best.tif',\n",
       "  'test_images/seg_BE150_11_A12_br_5750_fs_z_stack_best.tif',\n",
       "  'test_images/seg_BE150_11_A12_br_6690_fs_z_stack_best.tif',\n",
       "  'test_images/seg_BE150_11_A12_br_7630_fs_z_stack_best.tif',\n",
       "  'test_images/seg_BE150_11_A12_br_8570_fs_z_stack_best.tif',\n",
       "  'test_images/seg_BE150_11_A12_br_9510_fs_z_stack_best.tif',\n",
       "  'test_images/seg_BE150_11_A12_br_10450_fs_z_stack_best.tif',\n",
       "  'test_images/seg_BE150_11_A12_br_11390_fs_z_stack_best.tif',\n",
       "  'test_images/seg_BE150_11_A12_br_12330_fs_z_stack_best.tif',\n",
       "  'test_images/seg_BE150_11_A12_br_13270_fs_z_stack_best.tif'],\n",
       " [110,\n",
       "  1050,\n",
       "  1990,\n",
       "  2930,\n",
       "  3870,\n",
       "  4810,\n",
       "  5750,\n",
       "  6690,\n",
       "  7630,\n",
       "  8570,\n",
       "  9510,\n",
       "  10450,\n",
       "  11390,\n",
       "  12330,\n",
       "  13270])"
      ]
     },
     "execution_count": 6,
     "metadata": {},
     "output_type": "execute_result"
    }
   ],
   "source": [
    "import os \n",
    "import natsort\n",
    "import \n",
    "\n",
    "\n",
    "IMAGE_PATH = 'test_images'\n",
    "image_filenames = natsort.natsorted(os.listdir(IMAGE_PATH)) # sort filenames in natural order\n",
    "image_paths = [os.path.join(IMAGE_PATH, f) for f in image_filenames]\n",
    "\n",
    "times_in_seconds = [int(f.split('_')[-5]) for f in image_filenames]\n",
    "\n",
    "frame_set = TiffFrameSet(file_paths=image_paths, times_in_seconds=times_in_seconds)\n",
    "\n",
    "image_paths, times_in_seconds"
   ]
  }
 ],
 "metadata": {
  "kernelspec": {
   "display_name": "py39",
   "language": "python",
   "name": "python3"
  },
  "language_info": {
   "codemirror_mode": {
    "name": "ipython",
    "version": 3
   },
   "file_extension": ".py",
   "mimetype": "text/x-python",
   "name": "python",
   "nbconvert_exporter": "python",
   "pygments_lexer": "ipython3",
   "version": "3.10.12"
  },
  "orig_nbformat": 4
 },
 "nbformat": 4,
 "nbformat_minor": 2
}
